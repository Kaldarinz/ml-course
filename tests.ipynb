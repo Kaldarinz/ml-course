{
 "cells": [
  {
   "cell_type": "code",
   "execution_count": 2,
   "metadata": {},
   "outputs": [],
   "source": [
    "import numpy as np\n",
    "from matplotlib import pyplot as plt\n",
    "\n",
    "rng = np.random.default_rng()\n",
    "%matplotlib widget"
   ]
  },
  {
   "cell_type": "code",
   "execution_count": null,
   "metadata": {},
   "outputs": [],
   "source": [
    "sample_size = 50\n",
    "tst = rng.random((1000000, sample_size))\n",
    "arr = np.count_nonzero((tst<0.95), axis=1)\n",
    "hist = np.histogram(arr, bins=sample_size + 1, range=(0,sample_size+1))\n",
    "print(hist[0][-3]/1000000)\n",
    "ax = plt.subplot()\n",
    "ax.clear()\n",
    "ax.hist(arr, bins=sample_size + 1, range=(0,sample_size+1), density=True, align='left')\n",
    "plt.show()"
   ]
  },
  {
   "cell_type": "code",
   "execution_count": 21,
   "metadata": {},
   "outputs": [
    {
     "ename": "ValueError",
     "evalue": "Must provide either V or VI for Mahalanobis distance",
     "output_type": "error",
     "traceback": [
      "\u001b[1;31m---------------------------------------------------------------------------\u001b[0m",
      "\u001b[1;31mValueError\u001b[0m                                Traceback (most recent call last)",
      "Cell \u001b[1;32mIn[21], line 3\u001b[0m\n\u001b[0;32m      1\u001b[0m \u001b[38;5;28;01mfrom\u001b[39;00m \u001b[38;5;21;01msklearn\u001b[39;00m\u001b[38;5;21;01m.\u001b[39;00m\u001b[38;5;21;01mmetrics\u001b[39;00m \u001b[38;5;28;01mimport\u001b[39;00m DistanceMetric\n\u001b[1;32m----> 3\u001b[0m dist \u001b[38;5;241m=\u001b[39m \u001b[43mDistanceMetric\u001b[49m\u001b[38;5;241;43m.\u001b[39;49m\u001b[43mget_metric\u001b[49m\u001b[43m(\u001b[49m\u001b[43mmetric\u001b[49m\u001b[38;5;241;43m=\u001b[39;49m\u001b[38;5;124;43m'\u001b[39;49m\u001b[38;5;124;43mmahalanobis\u001b[39;49m\u001b[38;5;124;43m'\u001b[39;49m\u001b[43m)\u001b[49m\n\u001b[0;32m      4\u001b[0m dist\u001b[38;5;241m.\u001b[39mpairwise([[\u001b[38;5;241m1\u001b[39m,\u001b[38;5;241m1\u001b[39m], [\u001b[38;5;241m2\u001b[39m,\u001b[38;5;241m2\u001b[39m]], [[\u001b[38;5;241m0\u001b[39m,\u001b[38;5;241m0\u001b[39m], [\u001b[38;5;241m1\u001b[39m,\u001b[38;5;241m1\u001b[39m]])\n",
      "File \u001b[1;32msklearn\\\\metrics\\\\_dist_metrics.pyx:211\u001b[0m, in \u001b[0;36msklearn.metrics._dist_metrics.DistanceMetric.get_metric\u001b[1;34m()\u001b[0m\n",
      "File \u001b[1;32msklearn\\\\metrics\\\\_dist_metrics.pyx:437\u001b[0m, in \u001b[0;36msklearn.metrics._dist_metrics.DistanceMetric64.get_metric\u001b[1;34m()\u001b[0m\n",
      "File \u001b[1;32msklearn\\\\metrics\\\\_dist_metrics.pyx:1601\u001b[0m, in \u001b[0;36msklearn.metrics._dist_metrics.MahalanobisDistance64.__init__\u001b[1;34m()\u001b[0m\n",
      "\u001b[1;31mValueError\u001b[0m: Must provide either V or VI for Mahalanobis distance"
     ]
    }
   ],
   "source": [
    "from sklearn.metrics import DistanceMetric\n",
    "\n",
    "dist = DistanceMetric.get_metric(metric='mahalanobis')\n",
    "dist.pairwise([[1,1], [2,2]], [[0,0], [1,1]])"
   ]
  }
 ],
 "metadata": {
  "kernelspec": {
   "display_name": "venv",
   "language": "python",
   "name": "python3"
  },
  "language_info": {
   "codemirror_mode": {
    "name": "ipython",
    "version": 3
   },
   "file_extension": ".py",
   "mimetype": "text/x-python",
   "name": "python",
   "nbconvert_exporter": "python",
   "pygments_lexer": "ipython3",
   "version": "3.12.0"
  }
 },
 "nbformat": 4,
 "nbformat_minor": 2
}
