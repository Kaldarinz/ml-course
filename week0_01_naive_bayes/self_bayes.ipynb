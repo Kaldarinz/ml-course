{
 "cells": [
  {
   "cell_type": "code",
   "execution_count": 129,
   "metadata": {},
   "outputs": [],
   "source": [
    "import numpy as np\n",
    "import sklearn\n",
    "from matplotlib import pyplot as plt\n",
    "from sklearn.datasets import load_iris\n",
    "import pandas as pd\n",
    "%matplotlib widget"
   ]
  },
  {
   "cell_type": "code",
   "execution_count": 130,
   "metadata": {},
   "outputs": [
    {
     "data": {
      "text/html": [
       "<div>\n",
       "<style scoped>\n",
       "    .dataframe tbody tr th:only-of-type {\n",
       "        vertical-align: middle;\n",
       "    }\n",
       "\n",
       "    .dataframe tbody tr th {\n",
       "        vertical-align: top;\n",
       "    }\n",
       "\n",
       "    .dataframe thead th {\n",
       "        text-align: right;\n",
       "    }\n",
       "</style>\n",
       "<table border=\"1\" class=\"dataframe\">\n",
       "  <thead>\n",
       "    <tr style=\"text-align: right;\">\n",
       "      <th></th>\n",
       "      <th>sepal length (cm)</th>\n",
       "      <th>sepal width (cm)</th>\n",
       "      <th>petal length (cm)</th>\n",
       "      <th>petal width (cm)</th>\n",
       "      <th>target labels</th>\n",
       "      <th>target names</th>\n",
       "    </tr>\n",
       "  </thead>\n",
       "  <tbody>\n",
       "    <tr>\n",
       "      <th>0</th>\n",
       "      <td>5.1</td>\n",
       "      <td>3.5</td>\n",
       "      <td>1.4</td>\n",
       "      <td>0.2</td>\n",
       "      <td>0</td>\n",
       "      <td>setosa</td>\n",
       "    </tr>\n",
       "    <tr>\n",
       "      <th>1</th>\n",
       "      <td>4.9</td>\n",
       "      <td>3.0</td>\n",
       "      <td>1.4</td>\n",
       "      <td>0.2</td>\n",
       "      <td>0</td>\n",
       "      <td>setosa</td>\n",
       "    </tr>\n",
       "    <tr>\n",
       "      <th>2</th>\n",
       "      <td>4.7</td>\n",
       "      <td>3.2</td>\n",
       "      <td>1.3</td>\n",
       "      <td>0.2</td>\n",
       "      <td>0</td>\n",
       "      <td>setosa</td>\n",
       "    </tr>\n",
       "    <tr>\n",
       "      <th>3</th>\n",
       "      <td>4.6</td>\n",
       "      <td>3.1</td>\n",
       "      <td>1.5</td>\n",
       "      <td>0.2</td>\n",
       "      <td>0</td>\n",
       "      <td>setosa</td>\n",
       "    </tr>\n",
       "    <tr>\n",
       "      <th>4</th>\n",
       "      <td>5.0</td>\n",
       "      <td>3.6</td>\n",
       "      <td>1.4</td>\n",
       "      <td>0.2</td>\n",
       "      <td>0</td>\n",
       "      <td>setosa</td>\n",
       "    </tr>\n",
       "  </tbody>\n",
       "</table>\n",
       "</div>"
      ],
      "text/plain": [
       "  sepal length (cm) sepal width (cm) petal length (cm) petal width (cm)  \\\n",
       "0               5.1              3.5               1.4              0.2   \n",
       "1               4.9              3.0               1.4              0.2   \n",
       "2               4.7              3.2               1.3              0.2   \n",
       "3               4.6              3.1               1.5              0.2   \n",
       "4               5.0              3.6               1.4              0.2   \n",
       "\n",
       "  target labels target names  \n",
       "0             0       setosa  \n",
       "1             0       setosa  \n",
       "2             0       setosa  \n",
       "3             0       setosa  \n",
       "4             0       setosa  "
      ]
     },
     "execution_count": 130,
     "metadata": {},
     "output_type": "execute_result"
    }
   ],
   "source": [
    "data = load_iris()\n",
    "dir(data)\n",
    "features = data['data']\n",
    "target = data['target'][:,np.newaxis]\n",
    "\n",
    "dataframe = pd.DataFrame(\n",
    "    np.concatenate((features, target, data['target_names'][target]), axis = 1),\n",
    "    columns = data['feature_names'] + ['target labels', 'target names'] \n",
    ")\n",
    "dataframe.head()"
   ]
  },
  {
   "cell_type": "code",
   "execution_count": 131,
   "metadata": {},
   "outputs": [
    {
     "data": {
      "text/plain": [
       "<__main__.NormalDistr at 0x24789a8f230>"
      ]
     },
     "execution_count": 131,
     "metadata": {},
     "output_type": "execute_result"
    }
   ],
   "source": [
    "class NormalDistr:\n",
    "\n",
    "    def __init__(self, features: np.ndarray) -> None:\n",
    "        self.mean = features.mean(axis=0)\n",
    "        self.std = features.std(axis=0)\n",
    "\n",
    "    def logprob(self, value: np.ndarray) -> np.ndarray:\n",
    "        res = -0.5*np.log(2*np.pi*self.std**2) - 2*(value - self.mean)**2 / (2 * self.std**2)\n",
    "        return res\n",
    "    def prob(self, value: np.ndarray) -> np.ndarray:\n",
    "        return np.exp(self.logprob(value))\n",
    "\n",
    "NormalDistr(features)"
   ]
  },
  {
   "cell_type": "code",
   "execution_count": 132,
   "metadata": {},
   "outputs": [],
   "source": [
    "from sklearn.base import BaseEstimator, ClassifierMixin\n",
    "\n",
    "class Bayes(ClassifierMixin, BaseEstimator):\n",
    "\n",
    "    def fit(self, X, y, weights=None, distribution=None):\n",
    "\n",
    "        self.labels = np.unique(y)\n",
    "        if distribution is None:\n",
    "            self.distribution = NormalDistr\n",
    "        else:\n",
    "            self.distribution = distribution\n",
    "\n",
    "        self.fitted = {\n",
    "            lbl: self.distribution(X[y == lbl, :])\n",
    "            for lbl in self.labels\n",
    "        }\n",
    "        self.cat_probs = {\n",
    "            lbl: (y == lbl).sum()/len(self.labels)\n",
    "            for lbl in self.labels\n",
    "        }\n",
    "\n",
    "    def predict_log_proba(self, X):\n",
    "        res = np.zeros((X.shape[0], len(self.labels)))\n",
    "        for ind, lbl in enumerate(self.labels):\n",
    "            res[:,ind] = self.fitted[lbl].logprob(X).sum(axis=1) - np.full(X.shape[0], self.cat_probs[lbl])\n",
    "        return res\n",
    "\n",
    "\n",
    "    def predict_proba(self, X):\n",
    "        return np.exp(self.predict_log_proba(X))\n",
    "    \n",
    "    def predict(self, X):\n",
    "        \n",
    "        return self.labels[self.predict_proba(X).argmax(axis=1)]"
   ]
  },
  {
   "cell_type": "code",
   "execution_count": 133,
   "metadata": {},
   "outputs": [
    {
     "name": "stdout",
     "output_type": "stream",
     "text": [
      "log probas:\n",
      "[[-938.32133103  -51.24526701  -20.08435531]\n",
      " [-691.82628217  -25.78206256  -19.40749502]]\n",
      "predicted labels:\n",
      "['2' '2']\n",
      "\n",
      "It`s alive! More tests coming.\n",
      "(150,)\n",
      "features.shape=(150, 4)\n"
     ]
    }
   ],
   "source": [
    "nb = Bayes()\n",
    "nb.fit(features, dataframe[\"target labels\"])\n",
    "print('log probas:\\n{}'.format(nb.predict_log_proba(features[-2:])))\n",
    "print('predicted labels:\\n{}'.format(nb.predict(features[-2:])))\n",
    "print('\\nIt`s alive! More tests coming.')\n",
    "print(dataframe['target labels'].shape)\n",
    "print(f'{features.shape=}')"
   ]
  },
  {
   "cell_type": "code",
   "execution_count": 134,
   "metadata": {},
   "outputs": [
    {
     "name": "stdout",
     "output_type": "stream",
     "text": [
      "(112, 4) (112,)\n",
      "[[4.9 2.5 4.5 1.7]\n",
      " [5.5 2.4 3.7 1. ]\n",
      " [6.2 3.4 5.4 2.3]\n",
      " [6.9 3.1 5.4 2.1]\n",
      " [7.2 3.6 6.1 2.5]\n",
      " [6.1 2.8 4.7 1.2]\n",
      " [6.3 3.3 4.7 1.6]\n",
      " [6.3 3.3 6.  2.5]\n",
      " [6.1 3.  4.9 1.8]\n",
      " [6.4 2.8 5.6 2.2]\n",
      " [6.4 3.2 4.5 1.5]\n",
      " [6.3 2.5 4.9 1.5]\n",
      " [4.6 3.6 1.  0.2]\n",
      " [5.6 2.9 3.6 1.3]\n",
      " [5.8 2.7 5.1 1.9]\n",
      " [5.7 3.8 1.7 0.3]\n",
      " [7.2 3.2 6.  1.8]\n",
      " [5.1 3.4 1.5 0.2]\n",
      " [5.1 3.8 1.6 0.2]\n",
      " [6.  3.4 4.5 1.6]\n",
      " [6.1 2.9 4.7 1.4]\n",
      " [5.7 2.6 3.5 1. ]\n",
      " [4.8 3.4 1.9 0.2]\n",
      " [5.1 3.5 1.4 0.3]\n",
      " [6.2 2.9 4.3 1.3]\n",
      " [4.4 2.9 1.4 0.2]\n",
      " [5.8 2.7 3.9 1.2]\n",
      " [6.9 3.2 5.7 2.3]\n",
      " [4.6 3.4 1.4 0.3]\n",
      " [5.5 2.5 4.  1.3]\n",
      " [7.3 2.9 6.3 1.8]\n",
      " [7.9 3.8 6.4 2. ]\n",
      " [5.1 2.5 3.  1.1]\n",
      " [5.7 4.4 1.5 0.4]\n",
      " [5.2 2.7 3.9 1.4]\n",
      " [4.9 3.1 1.5 0.2]\n",
      " [5.1 3.8 1.5 0.3]\n",
      " [5.  3.3 1.4 0.2]\n",
      " [5.5 3.5 1.3 0.2]\n",
      " [5.9 3.2 4.8 1.8]\n",
      " [5.1 3.3 1.7 0.5]\n",
      " [5.  3.4 1.6 0.4]\n",
      " [5.7 2.5 5.  2. ]\n",
      " [6.7 3.3 5.7 2.1]\n",
      " [7.4 2.8 6.1 1.9]\n",
      " [5.1 3.8 1.9 0.4]\n",
      " [4.6 3.2 1.4 0.2]\n",
      " [5.1 3.7 1.5 0.4]\n",
      " [6.3 2.7 4.9 1.8]\n",
      " [6.3 2.8 5.1 1.5]\n",
      " [5.  2.  3.5 1. ]\n",
      " [7.7 3.  6.1 2.3]\n",
      " [6.9 3.1 4.9 1.5]\n",
      " [6.  2.9 4.5 1.5]\n",
      " [4.6 3.1 1.5 0.2]\n",
      " [5.  2.3 3.3 1. ]\n",
      " [4.8 3.  1.4 0.1]\n",
      " [6.3 3.4 5.6 2.4]\n",
      " [6.4 2.8 5.6 2.1]\n",
      " [4.8 3.1 1.6 0.2]\n",
      " [6.5 3.2 5.1 2. ]\n",
      " [5.2 4.1 1.5 0.1]\n",
      " [6.5 3.  5.8 2.2]\n",
      " [5.8 2.7 5.1 1.9]\n",
      " [6.7 2.5 5.8 1.8]\n",
      " [4.9 3.6 1.4 0.1]\n",
      " [6.6 3.  4.4 1.4]\n",
      " [6.5 3.  5.5 1.8]\n",
      " [6.7 3.  5.  1.7]\n",
      " [5.8 2.8 5.1 2.4]\n",
      " [6.8 3.2 5.9 2.3]\n",
      " [6.5 2.8 4.6 1.5]\n",
      " [5.5 2.6 4.4 1.2]\n",
      " [6.2 2.2 4.5 1.5]\n",
      " [6.4 2.9 4.3 1.3]\n",
      " [5.6 3.  4.1 1.3]\n",
      " [6.7 3.3 5.7 2.5]\n",
      " [4.8 3.4 1.6 0.2]\n",
      " [5.4 3.4 1.7 0.2]\n",
      " [7.7 2.8 6.7 2. ]\n",
      " [7.6 3.  6.6 2.1]\n",
      " [7.7 2.6 6.9 2.3]\n",
      " [6.4 3.2 5.3 2.3]\n",
      " [6.3 2.3 4.4 1.3]\n",
      " [4.7 3.2 1.3 0.2]\n",
      " [5.2 3.5 1.5 0.2]\n",
      " [7.  3.2 4.7 1.4]\n",
      " [5.  3.5 1.6 0.6]\n",
      " [5.7 2.9 4.2 1.3]\n",
      " [5.9 3.  4.2 1.5]\n",
      " [4.9 3.  1.4 0.2]\n",
      " [5.  3.  1.6 0.2]\n",
      " [5.5 2.3 4.  1.3]\n",
      " [7.1 3.  5.9 2.1]\n",
      " [5.8 4.  1.2 0.2]\n",
      " [5.4 3.9 1.3 0.4]\n",
      " [5.9 3.  5.1 1.8]\n",
      " [6.4 2.7 5.3 1.9]\n",
      " [6.8 2.8 4.8 1.4]\n",
      " [6.9 3.1 5.1 2.3]\n",
      " [5.6 3.  4.5 1.5]\n",
      " [5.8 2.7 4.1 1. ]\n",
      " [4.4 3.  1.3 0.2]\n",
      " [5.8 2.6 4.  1.2]\n",
      " [4.5 2.3 1.3 0.3]\n",
      " [5.4 3.4 1.5 0.4]\n",
      " [6.7 3.1 4.7 1.5]\n",
      " [5.7 2.8 4.5 1.3]\n",
      " [5.  3.6 1.4 0.2]\n",
      " [5.  3.2 1.2 0.2]\n",
      " [6.3 2.9 5.6 1.8]\n",
      " [4.3 3.  1.1 0.1]]\n"
     ]
    }
   ],
   "source": [
    "from sklearn.model_selection import train_test_split\n",
    "features_train, features_test, target_train, target_test = train_test_split(features, target, test_size=0.25)\n",
    "\n",
    "print(features_train.shape, target_train.reshape(-1).shape)\n",
    "print(features_train)"
   ]
  },
  {
   "cell_type": "code",
   "execution_count": 135,
   "metadata": {},
   "outputs": [],
   "source": [
    "nb = Bayes()\n",
    "nb.fit(features_train, target_train.reshape(-1))\n",
    "nb_test_log_proba = nb.predict_log_proba(features_test)"
   ]
  },
  {
   "cell_type": "code",
   "execution_count": 136,
   "metadata": {},
   "outputs": [
    {
     "name": "stdout",
     "output_type": "stream",
     "text": [
      "Naive Bayes classifier accuracy on the train set: 0.9642857142857143\n"
     ]
    }
   ],
   "source": [
    "print('Naive Bayes classifier accuracy on the train set: {}'.format(nb.score(features_train, target_train.reshape(-1))))"
   ]
  },
  {
   "cell_type": "code",
   "execution_count": 137,
   "metadata": {},
   "outputs": [
    {
     "name": "stdout",
     "output_type": "stream",
     "text": [
      "Naive Bayes classifier accuracy on the test set: 0.9473684210526315\n"
     ]
    }
   ],
   "source": [
    "print('Naive Bayes classifier accuracy on the test set: {}'.format(nb.score(features_test, target_test.reshape(-1))))"
   ]
  },
  {
   "cell_type": "code",
   "execution_count": 138,
   "metadata": {},
   "outputs": [
    {
     "name": "stderr",
     "output_type": "stream",
     "text": [
      "c:\\Users\\apopo\\Python\\Новая папка\\ml-course\\venv\\Lib\\site-packages\\sklearn\\utils\\validation.py:1300: DataConversionWarning: A column-vector y was passed when a 1d array was expected. Please change the shape of y to (n_samples, ), for example using ravel().\n",
      "  y = column_or_1d(y, warn=True)\n"
     ]
    }
   ],
   "source": [
    "from sklearn import naive_bayes\n",
    "\n",
    "sklearn_nb = naive_bayes.GaussianNB()\n",
    "sklearn_nb.fit(features_train, target_train)\n",
    "sklearn_nb_test_log_proba = sklearn_nb.predict_log_proba(features_test)"
   ]
  },
  {
   "cell_type": "code",
   "execution_count": 139,
   "metadata": {},
   "outputs": [
    {
     "name": "stdout",
     "output_type": "stream",
     "text": [
      "sklearn implementation accuracy on the train set: 0.9642857142857143\n"
     ]
    }
   ],
   "source": [
    "print('sklearn implementation accuracy on the train set: {}'.format(sklearn_nb.score(features_train, target_train)))"
   ]
  },
  {
   "cell_type": "code",
   "execution_count": 140,
   "metadata": {},
   "outputs": [
    {
     "name": "stdout",
     "output_type": "stream",
     "text": [
      "sklearn implementation accuracy on the test set: 0.9473684210526315\n"
     ]
    }
   ],
   "source": [
    "print('sklearn implementation accuracy on the test set: {}'.format(sklearn_nb.score(features_test, target_test)))"
   ]
  },
  {
   "cell_type": "code",
   "execution_count": null,
   "metadata": {},
   "outputs": [],
   "source": []
  }
 ],
 "metadata": {
  "kernelspec": {
   "display_name": "venv",
   "language": "python",
   "name": "python3"
  },
  "language_info": {
   "codemirror_mode": {
    "name": "ipython",
    "version": 3
   },
   "file_extension": ".py",
   "mimetype": "text/x-python",
   "name": "python",
   "nbconvert_exporter": "python",
   "pygments_lexer": "ipython3",
   "version": "3.12.0rc3"
  }
 },
 "nbformat": 4,
 "nbformat_minor": 2
}
